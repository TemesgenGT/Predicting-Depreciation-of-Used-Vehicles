{
 "cells": [
  {
   "cell_type": "markdown",
   "metadata": {},
   "source": [
    "# Modeling"
   ]
  },
  {
   "cell_type": "code",
   "execution_count": 1,
   "metadata": {},
   "outputs": [],
   "source": [
    "import pandas as pd\n",
    "import numpy as np\n",
    "import os\n",
    "import matplotlib.pyplot as plt\n",
    "import seaborn as sns\n",
    "\n",
    "from sklearn import __version__ as sklearn_version\n",
    "from sklearn.preprocessing import scale\n",
    "from sklearn.model_selection import train_test_split, cross_validate, GridSearchCV, RandomizedSearchCV\n",
    "from sklearn.preprocessing import StandardScaler\n",
    "from sklearn.linear_model import LinearRegression\n",
    "from sklearn.ensemble import RandomForestRegressor\n",
    "from sklearn.metrics import r2_score, mean_squared_error, mean_absolute_error\n",
    "from sklearn.pipeline import make_pipeline\n",
    "#from sklearn.impute import SimpleImputer\n",
    "from sklearn.feature_selection import SelectKBest, f_regression\n",
    "from sklearn.tree import DecisionTreeRegressor\n",
    "from sklearn.linear_model import Ridge\n",
    "\n",
    "\n",
    "\n",
    "import xgboost as xgb\n",
    "\n",
    "%matplotlib inline "
   ]
  },
  {
   "cell_type": "markdown",
   "metadata": {},
   "source": [
    "### Tabel of Content\n",
    "1. [Load Data](#Load-Data)\n",
    "\n",
    "- [Inspect data](#Inspect-data)\n",
    "- [Assign variables into target and predictors](#Assign-variables-into-target-and-predictors)\n",
    "2. [Split the dataset](#Split-the-dataset)\n",
    "    - [Inspect the dimension](#Inspect-the-dimension)\n",
    "3. [Scaling](#Scaling) \n",
    "    - [Transform scaled data](#Transform-scaled-data)\n",
    "6. [Models](#Models)\n",
    "    - [Linear Regression](#Linear-Regression) \n",
    "    - [Residual distribution graph](#Residual-distribution-graph)\n",
    "    - [Train and test dataset distribution graph](#Train-and-test-dataset-distribution-graph)\n",
    "\n",
    "    - [Ridge Regularization](#Ridge-Regularization)\n",
    "    - [XGBoost](#XGBoost)\n",
    "    - [Decision Tree Regression](#Decision-Tree-Regression)\n",
    "    - [Random Forest Regression](#Random-Forest-Regression)\n",
    "        - [Most important Features](#Most-important-Features)"
   ]
  },
  {
   "cell_type": "markdown",
   "metadata": {},
   "source": [
    "\n",
    "## Load Data"
   ]
  },
  {
   "cell_type": "code",
   "execution_count": 2,
   "metadata": {},
   "outputs": [],
   "source": [
    "df = pd.read_csv('cleaned_vehicles data_prep.csv')"
   ]
  },
  {
   "cell_type": "markdown",
   "metadata": {},
   "source": [
    "#### Inspect data"
   ]
  },
  {
   "cell_type": "code",
   "execution_count": 3,
   "metadata": {},
   "outputs": [
    {
     "data": {
      "text/html": [
       "<div>\n",
       "<style scoped>\n",
       "    .dataframe tbody tr th:only-of-type {\n",
       "        vertical-align: middle;\n",
       "    }\n",
       "\n",
       "    .dataframe tbody tr th {\n",
       "        vertical-align: top;\n",
       "    }\n",
       "\n",
       "    .dataframe thead th {\n",
       "        text-align: right;\n",
       "    }\n",
       "</style>\n",
       "<table border=\"1\" class=\"dataframe\">\n",
       "  <thead>\n",
       "    <tr style=\"text-align: right;\">\n",
       "      <th></th>\n",
       "      <th>cylinders</th>\n",
       "      <th>odometer</th>\n",
       "      <th>rating</th>\n",
       "      <th>year_difference</th>\n",
       "      <th>new_price</th>\n",
       "      <th>depreciation per year</th>\n",
       "      <th>manufacturer_audi</th>\n",
       "      <th>manufacturer_bmw</th>\n",
       "      <th>manufacturer_buick</th>\n",
       "      <th>manufacturer_cadillac</th>\n",
       "      <th>...</th>\n",
       "      <th>condition_salvage</th>\n",
       "      <th>fuel_electric</th>\n",
       "      <th>fuel_gas</th>\n",
       "      <th>fuel_hybrid</th>\n",
       "      <th>fuel_other</th>\n",
       "      <th>mpg_Low mpg (20 - 30)</th>\n",
       "      <th>mpg_Medium mpg (30 - 40)</th>\n",
       "      <th>size_full-size</th>\n",
       "      <th>size_mid-size</th>\n",
       "      <th>size_sub-compact</th>\n",
       "    </tr>\n",
       "  </thead>\n",
       "  <tbody>\n",
       "    <tr>\n",
       "      <th>0</th>\n",
       "      <td>6</td>\n",
       "      <td>178054.0</td>\n",
       "      <td>4.3</td>\n",
       "      <td>10</td>\n",
       "      <td>25426.696</td>\n",
       "      <td>0.098696</td>\n",
       "      <td>0</td>\n",
       "      <td>0</td>\n",
       "      <td>0</td>\n",
       "      <td>0</td>\n",
       "      <td>...</td>\n",
       "      <td>0</td>\n",
       "      <td>0</td>\n",
       "      <td>1</td>\n",
       "      <td>0</td>\n",
       "      <td>0</td>\n",
       "      <td>1</td>\n",
       "      <td>0</td>\n",
       "      <td>1</td>\n",
       "      <td>0</td>\n",
       "      <td>0</td>\n",
       "    </tr>\n",
       "    <tr>\n",
       "      <th>1</th>\n",
       "      <td>6</td>\n",
       "      <td>170259.0</td>\n",
       "      <td>4.1</td>\n",
       "      <td>7</td>\n",
       "      <td>29137.649</td>\n",
       "      <td>0.129970</td>\n",
       "      <td>0</td>\n",
       "      <td>0</td>\n",
       "      <td>0</td>\n",
       "      <td>0</td>\n",
       "      <td>...</td>\n",
       "      <td>0</td>\n",
       "      <td>0</td>\n",
       "      <td>1</td>\n",
       "      <td>0</td>\n",
       "      <td>0</td>\n",
       "      <td>1</td>\n",
       "      <td>0</td>\n",
       "      <td>1</td>\n",
       "      <td>0</td>\n",
       "      <td>0</td>\n",
       "    </tr>\n",
       "    <tr>\n",
       "      <th>2</th>\n",
       "      <td>4</td>\n",
       "      <td>86942.0</td>\n",
       "      <td>4.7</td>\n",
       "      <td>5</td>\n",
       "      <td>24223.771</td>\n",
       "      <td>0.117259</td>\n",
       "      <td>0</td>\n",
       "      <td>0</td>\n",
       "      <td>0</td>\n",
       "      <td>0</td>\n",
       "      <td>...</td>\n",
       "      <td>0</td>\n",
       "      <td>0</td>\n",
       "      <td>1</td>\n",
       "      <td>0</td>\n",
       "      <td>0</td>\n",
       "      <td>1</td>\n",
       "      <td>0</td>\n",
       "      <td>0</td>\n",
       "      <td>1</td>\n",
       "      <td>0</td>\n",
       "    </tr>\n",
       "    <tr>\n",
       "      <th>3</th>\n",
       "      <td>6</td>\n",
       "      <td>48932.0</td>\n",
       "      <td>4.1</td>\n",
       "      <td>5</td>\n",
       "      <td>29957.047</td>\n",
       "      <td>0.103149</td>\n",
       "      <td>0</td>\n",
       "      <td>0</td>\n",
       "      <td>0</td>\n",
       "      <td>0</td>\n",
       "      <td>...</td>\n",
       "      <td>0</td>\n",
       "      <td>0</td>\n",
       "      <td>1</td>\n",
       "      <td>0</td>\n",
       "      <td>0</td>\n",
       "      <td>1</td>\n",
       "      <td>0</td>\n",
       "      <td>1</td>\n",
       "      <td>0</td>\n",
       "      <td>0</td>\n",
       "    </tr>\n",
       "    <tr>\n",
       "      <th>4</th>\n",
       "      <td>6</td>\n",
       "      <td>49858.0</td>\n",
       "      <td>4.1</td>\n",
       "      <td>4</td>\n",
       "      <td>30921.106</td>\n",
       "      <td>0.044906</td>\n",
       "      <td>0</td>\n",
       "      <td>0</td>\n",
       "      <td>0</td>\n",
       "      <td>0</td>\n",
       "      <td>...</td>\n",
       "      <td>0</td>\n",
       "      <td>0</td>\n",
       "      <td>1</td>\n",
       "      <td>0</td>\n",
       "      <td>0</td>\n",
       "      <td>1</td>\n",
       "      <td>0</td>\n",
       "      <td>1</td>\n",
       "      <td>0</td>\n",
       "      <td>0</td>\n",
       "    </tr>\n",
       "  </tbody>\n",
       "</table>\n",
       "<p>5 rows × 73 columns</p>\n",
       "</div>"
      ],
      "text/plain": [
       "   cylinders  odometer  rating  year_difference  new_price  \\\n",
       "0          6  178054.0     4.3               10  25426.696   \n",
       "1          6  170259.0     4.1                7  29137.649   \n",
       "2          4   86942.0     4.7                5  24223.771   \n",
       "3          6   48932.0     4.1                5  29957.047   \n",
       "4          6   49858.0     4.1                4  30921.106   \n",
       "\n",
       "   depreciation per year  manufacturer_audi  manufacturer_bmw  \\\n",
       "0               0.098696                  0                 0   \n",
       "1               0.129970                  0                 0   \n",
       "2               0.117259                  0                 0   \n",
       "3               0.103149                  0                 0   \n",
       "4               0.044906                  0                 0   \n",
       "\n",
       "   manufacturer_buick  manufacturer_cadillac  ...  condition_salvage  \\\n",
       "0                   0                      0  ...                  0   \n",
       "1                   0                      0  ...                  0   \n",
       "2                   0                      0  ...                  0   \n",
       "3                   0                      0  ...                  0   \n",
       "4                   0                      0  ...                  0   \n",
       "\n",
       "   fuel_electric  fuel_gas  fuel_hybrid  fuel_other  mpg_Low mpg (20 - 30)  \\\n",
       "0              0         1            0           0                      1   \n",
       "1              0         1            0           0                      1   \n",
       "2              0         1            0           0                      1   \n",
       "3              0         1            0           0                      1   \n",
       "4              0         1            0           0                      1   \n",
       "\n",
       "   mpg_Medium mpg (30 - 40)  size_full-size  size_mid-size  size_sub-compact  \n",
       "0                         0               1              0                 0  \n",
       "1                         0               1              0                 0  \n",
       "2                         0               0              1                 0  \n",
       "3                         0               1              0                 0  \n",
       "4                         0               1              0                 0  \n",
       "\n",
       "[5 rows x 73 columns]"
      ]
     },
     "execution_count": 3,
     "metadata": {},
     "output_type": "execute_result"
    }
   ],
   "source": [
    "df.head()"
   ]
  },
  {
   "cell_type": "code",
   "execution_count": 4,
   "metadata": {},
   "outputs": [],
   "source": [
    "df = df.dropna()"
   ]
  },
  {
   "cell_type": "code",
   "execution_count": 5,
   "metadata": {},
   "outputs": [
    {
     "data": {
      "text/plain": [
       "-0.034883758913167195"
      ]
     },
     "execution_count": 5,
     "metadata": {},
     "output_type": "execute_result"
    }
   ],
   "source": [
    "# Minimum value of depreciation per year\n",
    "df['depreciation per year'].min()"
   ]
  },
  {
   "cell_type": "markdown",
   "metadata": {},
   "source": [
    "\n",
    "The negative value of depreciation per year reverse the context, that is the car values is appreciated or increase\n",
    "in values such as Antique cars sold more than it was bought when new."
   ]
  },
  {
   "cell_type": "code",
   "execution_count": 6,
   "metadata": {},
   "outputs": [
    {
     "data": {
      "text/plain": [
       "(7488, 73)"
      ]
     },
     "execution_count": 6,
     "metadata": {},
     "output_type": "execute_result"
    }
   ],
   "source": [
    "df.shape"
   ]
  },
  {
   "cell_type": "markdown",
   "metadata": {},
   "source": [
    "### Assign variables into target and predictors"
   ]
  },
  {
   "cell_type": "code",
   "execution_count": 7,
   "metadata": {},
   "outputs": [],
   "source": [
    "# Assign the data into dependent or target variable as y,  and predicator variables as X\n",
    "#y = df['depreciation per year']\n",
    "X = df.drop('depreciation per year', axis=1)\n",
    "y= df['depreciation per year']\n"
   ]
  },
  {
   "cell_type": "markdown",
   "metadata": {},
   "source": [
    "### Split the dataset"
   ]
  },
  {
   "cell_type": "code",
   "execution_count": 8,
   "metadata": {},
   "outputs": [],
   "source": [
    "# Split the data into train and test, train_size is 0.7 using train_test_plit method, \n",
    "X_train, X_test, y_train, y_test = train_test_split(X, y, test_size=0.3, random_state=47)"
   ]
  },
  {
   "cell_type": "markdown",
   "metadata": {},
   "source": [
    "### 2. Inspect the dimension"
   ]
  },
  {
   "cell_type": "code",
   "execution_count": 9,
   "metadata": {},
   "outputs": [
    {
     "data": {
      "text/plain": [
       "((5241, 72), (2247, 72))"
      ]
     },
     "execution_count": 9,
     "metadata": {},
     "output_type": "execute_result"
    }
   ],
   "source": [
    "# Check the dimensions of training set meet the train size is 0.7\n",
    "X_train.shape, X_test.shape"
   ]
  },
  {
   "cell_type": "code",
   "execution_count": 10,
   "metadata": {},
   "outputs": [
    {
     "data": {
      "text/plain": [
       "Index(['cylinders', 'odometer', 'rating', 'year_difference', 'new_price',\n",
       "       'manufacturer_audi', 'manufacturer_bmw', 'manufacturer_buick',\n",
       "       'manufacturer_cadillac', 'manufacturer_chevrolet',\n",
       "       'manufacturer_chrysler', 'manufacturer_dodge', 'manufacturer_fiat',\n",
       "       'manufacturer_ford', 'manufacturer_honda', 'manufacturer_hyundai',\n",
       "       'manufacturer_infiniti', 'manufacturer_jaguar', 'manufacturer_kia',\n",
       "       'manufacturer_lexus', 'manufacturer_lincoln', 'manufacturer_mazda',\n",
       "       'manufacturer_mitsubishi', 'manufacturer_nissan', 'manufacturer_subaru',\n",
       "       'manufacturer_volkswagen', 'manufacturer_volvo', 'drive_fwd',\n",
       "       'drive_rwd', 'type_convertible', 'type_coupe', 'type_hatchback',\n",
       "       'type_mini-van', 'type_offroad', 'type_other', 'type_pickup',\n",
       "       'type_sedan', 'type_truck', 'type_van', 'type_wagon',\n",
       "       'title_status_lien', 'title_status_missing', 'title_status_parts only',\n",
       "       'title_status_rebuilt', 'title_status_salvage', 'paint_color_blue',\n",
       "       'paint_color_brown', 'paint_color_custom', 'paint_color_green',\n",
       "       'paint_color_grey', 'paint_color_orange', 'paint_color_purple',\n",
       "       'paint_color_red', 'paint_color_silver', 'paint_color_white',\n",
       "       'paint_color_yellow', 'transmission_manual', 'transmission_other',\n",
       "       'condition_fair', 'condition_good', 'condition_like new',\n",
       "       'condition_new', 'condition_salvage', 'fuel_electric', 'fuel_gas',\n",
       "       'fuel_hybrid', 'fuel_other', 'mpg_Low mpg (20 - 30)',\n",
       "       'mpg_Medium mpg (30 - 40)', 'size_full-size', 'size_mid-size',\n",
       "       'size_sub-compact'],\n",
       "      dtype='object')"
      ]
     },
     "execution_count": 10,
     "metadata": {},
     "output_type": "execute_result"
    }
   ],
   "source": [
    "X_train.columns"
   ]
  },
  {
   "cell_type": "code",
   "execution_count": 11,
   "metadata": {},
   "outputs": [
    {
     "data": {
      "text/html": [
       "<div>\n",
       "<style scoped>\n",
       "    .dataframe tbody tr th:only-of-type {\n",
       "        vertical-align: middle;\n",
       "    }\n",
       "\n",
       "    .dataframe tbody tr th {\n",
       "        vertical-align: top;\n",
       "    }\n",
       "\n",
       "    .dataframe thead th {\n",
       "        text-align: right;\n",
       "    }\n",
       "</style>\n",
       "<table border=\"1\" class=\"dataframe\">\n",
       "  <thead>\n",
       "    <tr style=\"text-align: right;\">\n",
       "      <th></th>\n",
       "      <th>cylinders</th>\n",
       "      <th>odometer</th>\n",
       "      <th>rating</th>\n",
       "      <th>year_difference</th>\n",
       "      <th>new_price</th>\n",
       "      <th>manufacturer_audi</th>\n",
       "      <th>manufacturer_bmw</th>\n",
       "      <th>manufacturer_buick</th>\n",
       "      <th>manufacturer_cadillac</th>\n",
       "      <th>manufacturer_chevrolet</th>\n",
       "      <th>...</th>\n",
       "      <th>condition_salvage</th>\n",
       "      <th>fuel_electric</th>\n",
       "      <th>fuel_gas</th>\n",
       "      <th>fuel_hybrid</th>\n",
       "      <th>fuel_other</th>\n",
       "      <th>mpg_Low mpg (20 - 30)</th>\n",
       "      <th>mpg_Medium mpg (30 - 40)</th>\n",
       "      <th>size_full-size</th>\n",
       "      <th>size_mid-size</th>\n",
       "      <th>size_sub-compact</th>\n",
       "    </tr>\n",
       "  </thead>\n",
       "  <tbody>\n",
       "    <tr>\n",
       "      <th>2313</th>\n",
       "      <td>4</td>\n",
       "      <td>193666.0</td>\n",
       "      <td>4.7</td>\n",
       "      <td>13</td>\n",
       "      <td>20462.171</td>\n",
       "      <td>0</td>\n",
       "      <td>0</td>\n",
       "      <td>0</td>\n",
       "      <td>0</td>\n",
       "      <td>0</td>\n",
       "      <td>...</td>\n",
       "      <td>0</td>\n",
       "      <td>0</td>\n",
       "      <td>1</td>\n",
       "      <td>0</td>\n",
       "      <td>0</td>\n",
       "      <td>1</td>\n",
       "      <td>0</td>\n",
       "      <td>0</td>\n",
       "      <td>1</td>\n",
       "      <td>0</td>\n",
       "    </tr>\n",
       "    <tr>\n",
       "      <th>6273</th>\n",
       "      <td>4</td>\n",
       "      <td>99515.0</td>\n",
       "      <td>4.6</td>\n",
       "      <td>8</td>\n",
       "      <td>18781.056</td>\n",
       "      <td>0</td>\n",
       "      <td>0</td>\n",
       "      <td>0</td>\n",
       "      <td>0</td>\n",
       "      <td>0</td>\n",
       "      <td>...</td>\n",
       "      <td>0</td>\n",
       "      <td>0</td>\n",
       "      <td>1</td>\n",
       "      <td>0</td>\n",
       "      <td>0</td>\n",
       "      <td>0</td>\n",
       "      <td>1</td>\n",
       "      <td>0</td>\n",
       "      <td>0</td>\n",
       "      <td>0</td>\n",
       "    </tr>\n",
       "    <tr>\n",
       "      <th>4678</th>\n",
       "      <td>4</td>\n",
       "      <td>46000.0</td>\n",
       "      <td>4.3</td>\n",
       "      <td>4</td>\n",
       "      <td>15312.738</td>\n",
       "      <td>0</td>\n",
       "      <td>0</td>\n",
       "      <td>0</td>\n",
       "      <td>0</td>\n",
       "      <td>0</td>\n",
       "      <td>...</td>\n",
       "      <td>0</td>\n",
       "      <td>0</td>\n",
       "      <td>1</td>\n",
       "      <td>0</td>\n",
       "      <td>0</td>\n",
       "      <td>0</td>\n",
       "      <td>1</td>\n",
       "      <td>0</td>\n",
       "      <td>0</td>\n",
       "      <td>1</td>\n",
       "    </tr>\n",
       "    <tr>\n",
       "      <th>4758</th>\n",
       "      <td>6</td>\n",
       "      <td>202000.0</td>\n",
       "      <td>4.6</td>\n",
       "      <td>12</td>\n",
       "      <td>26312.017</td>\n",
       "      <td>0</td>\n",
       "      <td>0</td>\n",
       "      <td>0</td>\n",
       "      <td>0</td>\n",
       "      <td>0</td>\n",
       "      <td>...</td>\n",
       "      <td>0</td>\n",
       "      <td>0</td>\n",
       "      <td>1</td>\n",
       "      <td>0</td>\n",
       "      <td>0</td>\n",
       "      <td>1</td>\n",
       "      <td>0</td>\n",
       "      <td>0</td>\n",
       "      <td>1</td>\n",
       "      <td>0</td>\n",
       "    </tr>\n",
       "    <tr>\n",
       "      <th>7157</th>\n",
       "      <td>6</td>\n",
       "      <td>111704.0</td>\n",
       "      <td>4.0</td>\n",
       "      <td>6</td>\n",
       "      <td>28854.630</td>\n",
       "      <td>0</td>\n",
       "      <td>0</td>\n",
       "      <td>0</td>\n",
       "      <td>0</td>\n",
       "      <td>1</td>\n",
       "      <td>...</td>\n",
       "      <td>0</td>\n",
       "      <td>0</td>\n",
       "      <td>1</td>\n",
       "      <td>0</td>\n",
       "      <td>0</td>\n",
       "      <td>1</td>\n",
       "      <td>0</td>\n",
       "      <td>1</td>\n",
       "      <td>0</td>\n",
       "      <td>0</td>\n",
       "    </tr>\n",
       "  </tbody>\n",
       "</table>\n",
       "<p>5 rows × 72 columns</p>\n",
       "</div>"
      ],
      "text/plain": [
       "      cylinders  odometer  rating  year_difference  new_price  \\\n",
       "2313          4  193666.0     4.7               13  20462.171   \n",
       "6273          4   99515.0     4.6                8  18781.056   \n",
       "4678          4   46000.0     4.3                4  15312.738   \n",
       "4758          6  202000.0     4.6               12  26312.017   \n",
       "7157          6  111704.0     4.0                6  28854.630   \n",
       "\n",
       "      manufacturer_audi  manufacturer_bmw  manufacturer_buick  \\\n",
       "2313                  0                 0                   0   \n",
       "6273                  0                 0                   0   \n",
       "4678                  0                 0                   0   \n",
       "4758                  0                 0                   0   \n",
       "7157                  0                 0                   0   \n",
       "\n",
       "      manufacturer_cadillac  manufacturer_chevrolet  ...  condition_salvage  \\\n",
       "2313                      0                       0  ...                  0   \n",
       "6273                      0                       0  ...                  0   \n",
       "4678                      0                       0  ...                  0   \n",
       "4758                      0                       0  ...                  0   \n",
       "7157                      0                       1  ...                  0   \n",
       "\n",
       "      fuel_electric  fuel_gas  fuel_hybrid  fuel_other  mpg_Low mpg (20 - 30)  \\\n",
       "2313              0         1            0           0                      1   \n",
       "6273              0         1            0           0                      0   \n",
       "4678              0         1            0           0                      0   \n",
       "4758              0         1            0           0                      1   \n",
       "7157              0         1            0           0                      1   \n",
       "\n",
       "      mpg_Medium mpg (30 - 40)  size_full-size  size_mid-size  \\\n",
       "2313                         0               0              1   \n",
       "6273                         1               0              0   \n",
       "4678                         1               0              0   \n",
       "4758                         0               0              1   \n",
       "7157                         0               1              0   \n",
       "\n",
       "      size_sub-compact  \n",
       "2313                 0  \n",
       "6273                 0  \n",
       "4678                 1  \n",
       "4758                 0  \n",
       "7157                 0  \n",
       "\n",
       "[5 rows x 72 columns]"
      ]
     },
     "execution_count": 11,
     "metadata": {},
     "output_type": "execute_result"
    }
   ],
   "source": [
    "X_train.head()"
   ]
  },
  {
   "cell_type": "markdown",
   "metadata": {},
   "source": [
    "## Scaling"
   ]
  },
  {
   "cell_type": "code",
   "execution_count": 12,
   "metadata": {},
   "outputs": [
    {
     "data": {
      "text/plain": [
       "StandardScaler()"
      ]
     },
     "execution_count": 12,
     "metadata": {},
     "output_type": "execute_result"
    }
   ],
   "source": [
    "# Scale and transform the data \n",
    "scaler = StandardScaler()\n",
    "scaler.fit(X_train)\n"
   ]
  },
  {
   "cell_type": "markdown",
   "metadata": {},
   "source": [
    "## Transfrom scaled data"
   ]
  },
  {
   "cell_type": "code",
   "execution_count": 13,
   "metadata": {},
   "outputs": [],
   "source": [
    "# Transform the scaled data\n",
    "X_tr_scaled = scaler.transform(X_train)\n",
    "X_te_scaled = scaler.transform(X_test)"
   ]
  },
  {
   "cell_type": "markdown",
   "metadata": {},
   "source": [
    "# Models"
   ]
  },
  {
   "cell_type": "markdown",
   "metadata": {},
   "source": [
    "## Linear Regression"
   ]
  },
  {
   "cell_type": "code",
   "execution_count": 14,
   "metadata": {},
   "outputs": [
    {
     "data": {
      "text/plain": [
       "LinearRegression()"
      ]
     },
     "execution_count": 14,
     "metadata": {},
     "output_type": "execute_result"
    }
   ],
   "source": [
    "# Apply linearRegression model and fit the X_tr_scaled.\n",
    "\n",
    "lm = LinearRegression()\n",
    "lm.fit(X_tr_scaled, y_train)"
   ]
  },
  {
   "cell_type": "code",
   "execution_count": 15,
   "metadata": {},
   "outputs": [],
   "source": [
    "# Make perdictions using the model on both train and test splits.\n",
    "\n",
    "y_tr_pred = lm.predict(X_tr_scaled)\n",
    "y_te_pred = lm.predict(X_te_scaled)"
   ]
  },
  {
   "cell_type": "code",
   "execution_count": 16,
   "metadata": {},
   "outputs": [
    {
     "name": "stdout",
     "output_type": "stream",
     "text": [
      "Linear regression training score: 0.44840\n",
      "Test score: 0.42573\n"
     ]
    }
   ],
   "source": [
    "# Assess Model Performance using sklearn r2_score attribute.\n",
    "\n",
    "print(\"Linear regression training score: {:.5f}\".format(r2_score(y_train, y_tr_pred)))\n",
    "print(\"Test score: {:.5f}\".format( r2_score(y_test, y_te_pred)))\n"
   ]
  },
  {
   "cell_type": "markdown",
   "metadata": {},
   "source": [
    "Both training and test datasets return nearly the same scores implies linear regression is not \n",
    "overfit by the training dataset."
   ]
  },
  {
   "cell_type": "code",
   "execution_count": 17,
   "metadata": {},
   "outputs": [
    {
     "name": "stdout",
     "output_type": "stream",
     "text": [
      "Linear regression training dataset mean absolute error: 0.02512 \n",
      "Linear regression test dataset mean absolute error: 0.02691\n",
      "\n",
      "\n"
     ]
    }
   ],
   "source": [
    "# Compare the result sklearn library and funtioned defined above.\n",
    "training_error, test_error = mean_absolute_error(y_train, y_tr_pred), mean_absolute_error(y_test, y_te_pred)\n",
    "print('Linear regression training dataset mean absolute error: {:.5f} '.format(training_error))\n",
    "print('Linear regression test dataset mean absolute error: {:.5f}'.format(test_error))\n",
    "print('\\n')"
   ]
  },
  {
   "cell_type": "code",
   "execution_count": 18,
   "metadata": {},
   "outputs": [
    {
     "name": "stdout",
     "output_type": "stream",
     "text": [
      "Linear regression training dataset mean squaed error: 0.03494 \n",
      "Linear regression test dataset mean squared error: 0.03823\n",
      "\n",
      "\n"
     ]
    }
   ],
   "source": [
    "# mean-squared-error from scaled dataset minimize the error\n",
    "mse_training, mse_test = np.sqrt(mean_squared_error(y_train, y_tr_pred)), np.sqrt(mean_squared_error(y_test, y_te_pred))\n",
    "print('Linear regression training dataset mean squaed error: {:.5f} '.format(mse_training))\n",
    "print('Linear regression test dataset mean squared error: {:.5f}'.format(mse_test))\n",
    "print('\\n')"
   ]
  },
  {
   "cell_type": "code",
   "execution_count": 19,
   "metadata": {},
   "outputs": [],
   "source": [
    "# mean sequare errror return negligble difference in training and test datasets reveal that there is no \n",
    "# indication for overfitting."
   ]
  },
  {
   "cell_type": "markdown",
   "metadata": {},
   "source": [
    "### Residual distribution graph"
   ]
  },
  {
   "cell_type": "code",
   "execution_count": 20,
   "metadata": {},
   "outputs": [
    {
     "data": {
      "image/png": "[encoded data removed]",
      "text/plain": [
       "<Figure size 576x576 with 1 Axes>"
      ]
     },
     "metadata": {
      "needs_background": "light"
     },
     "output_type": "display_data"
    }
   ],
   "source": [
    "# Residual distribution\n",
    "plt.figure(figsize=(8,8))\n",
    "#plt.scatter(y_train,  y_tr_pred, color='cyan', marker=\"x\")\n",
    "plt.scatter(y_te_pred, (y_test - y_te_pred), color='lightgray')\n",
    "plt.xlabel('Predicted')\n",
    "plt.ylabel(\"Residual\")\n",
    "plt.title(\"Training and test datasets distribution\")\n",
    "plt.show()"
   ]
  },
  {
   "cell_type": "code",
   "execution_count": 21,
   "metadata": {},
   "outputs": [],
   "source": [
    "# The distribution of residual versus predicted shows there is no association. Therefore errors are \n",
    "# independently to predicted values."
   ]
  },
  {
   "cell_type": "markdown",
   "metadata": {},
   "source": [
    "## Train and test dataset distribution graph"
   ]
  },
  {
   "cell_type": "code",
   "execution_count": 22,
   "metadata": {},
   "outputs": [
    {
     "data": {
      "image/png": "[encoded data removed]",
      "text/plain": [
       "<Figure size 576x576 with 1 Axes>"
      ]
     },
     "metadata": {
      "needs_background": "light"
     },
     "output_type": "display_data"
    }
   ],
   "source": [
    "# Residual distribution\n",
    "plt.figure(figsize=(8,8))\n",
    "plt.scatter(y_train,  y_tr_pred, color='cyan', marker=\"x\")\n",
    "plt.scatter(y_test, y_te_pred, color='lightgray')\n",
    "plt.xlabel('Actual')\n",
    "plt.ylabel(\"predicted\")\n",
    "plt.title(\"Training and test datasets distribution\")\n",
    "plt.show()"
   ]
  },
  {
   "cell_type": "markdown",
   "metadata": {},
   "source": [
    "The distribution shows data points from training and test datasets are overlaid with minimum extreme outliers in the training dataset, however, model performance is focus on the test data points\n",
    "distribution.\n"
   ]
  },
  {
   "cell_type": "markdown",
   "metadata": {},
   "source": [
    "## Using Pipeline"
   ]
  },
  {
   "cell_type": "code",
   "execution_count": 23,
   "metadata": {},
   "outputs": [],
   "source": [
    "# Using linearRegression model to predict 'depreciation rate per year'\n",
    "pipe = make_pipeline(\n",
    "                    StandardScaler(),\n",
    "                    #SelectKBest(), #afffect the score\n",
    "                    LinearRegression())"
   ]
  },
  {
   "cell_type": "code",
   "execution_count": 24,
   "metadata": {},
   "outputs": [
    {
     "data": {
      "text/plain": [
       "Pipeline(steps=[('standardscaler', StandardScaler()),\n",
       "                ('linearregression', LinearRegression())])"
      ]
     },
     "execution_count": 24,
     "metadata": {},
     "output_type": "execute_result"
    }
   ],
   "source": [
    "# Fit the split trainig data\n",
    "pipe.fit(X_train, y_train)"
   ]
  },
  {
   "cell_type": "markdown",
   "metadata": {},
   "source": [
    "**Assess performance on train and test data**"
   ]
  },
  {
   "cell_type": "code",
   "execution_count": 25,
   "metadata": {},
   "outputs": [
    {
     "data": {
      "text/plain": [
       "(0.4483973136397915, 0.42572848772741856)"
      ]
     },
     "execution_count": 25,
     "metadata": {},
     "output_type": "execute_result"
    }
   ],
   "source": [
    "# Compare result R^2 using the pipe line\n",
    "y_tre_pred = pipe.predict(X_train)\n",
    "y_tes_pred = pipe.predict(X_test)\n",
    "r2_score(y_train, y_tre_pred), r2_score(y_test, y_tes_pred)"
   ]
  },
  {
   "cell_type": "code",
   "execution_count": 26,
   "metadata": {},
   "outputs": [
    {
     "data": {
      "text/plain": [
       "(0.025115118311954086, 0.026914467094521395)"
      ]
     },
     "execution_count": 26,
     "metadata": {},
     "output_type": "execute_result"
    }
   ],
   "source": [
    "# Compare the result sklearn library and funtioned defined above.\n",
    "mean_absolute_error(y_train, y_tr_pred), mean_absolute_error(y_test, y_te_pred)"
   ]
  },
  {
   "cell_type": "code",
   "execution_count": 27,
   "metadata": {},
   "outputs": [
    {
     "name": "stdout",
     "output_type": "stream",
     "text": [
      "training dataset: MSE 0.03494\n",
      "test dataset MSE: 0.03823\n",
      "\n",
      "\n"
     ]
    }
   ],
   "source": [
    "# mean-squared-error from scaled dataset minimize the error\n",
    "mean_tr_error, mean_test_error = np.sqrt(mean_squared_error(y_train, y_tr_pred)), np.sqrt(mean_squared_error(y_test, y_te_pred))\n",
    "print(\"training dataset: MSE {:.5f}\".format(mean_tr_error))\n",
    "print(\"test dataset MSE: {:.5f}\".format(mean_test_error))\n",
    "print('\\n')"
   ]
  },
  {
   "cell_type": "markdown",
   "metadata": {},
   "source": [
    "##### Pipeline function takes the standard functions as agrument and return the individual function outcome, just run all in one. "
   ]
  },
  {
   "cell_type": "code",
   "execution_count": 28,
   "metadata": {},
   "outputs": [],
   "source": [
    "# Using linearRegression model to predict 'depreciation rate per year'\n",
    "pipe1 = make_pipeline(\n",
    "                    StandardScaler(),\n",
    "                    SelectKBest(), \n",
    "                    LinearRegression()\n",
    ")"
   ]
  },
  {
   "cell_type": "code",
   "execution_count": 29,
   "metadata": {},
   "outputs": [],
   "source": [
    "#Create a grid_params\n",
    "grid_params = {'selectkbest__k':list(range(X_train.shape[1]))}\n",
    "# GridSearch to the pipe line and param_grids with cross-validation 5 folds.\n",
    "lr_gd_cv = GridSearchCV(pipe1, param_grid = grid_params,cv=5,n_jobs=-1)"
   ]
  },
  {
   "cell_type": "code",
   "execution_count": 30,
   "metadata": {},
   "outputs": [
    {
     "name": "stdout",
     "output_type": "stream",
     "text": [
      "CPU times: user 2.6 s, sys: 302 ms, total: 2.9 s\n",
      "Wall time: 1min 18s\n"
     ]
    },
    {
     "name": "stderr",
     "output_type": "stream",
     "text": [
      "/Users/temesgentesfay/opt/anaconda3/lib/python3.8/site-packages/sklearn/feature_selection/_univariate_selection.py:116: RuntimeWarning: divide by zero encountered in true_divide\n",
      "  f = msb / msw\n"
     ]
    }
   ],
   "source": [
    "%%time\n",
    "# Fit train dataset to grid search output\n",
    "result = lr_gd_cv.fit(X_train, y_train)"
   ]
  },
  {
   "cell_type": "code",
   "execution_count": 31,
   "metadata": {},
   "outputs": [],
   "source": [
    "# Assess scores\n",
    "score_mean = result.cv_results_['mean_test_score']\n",
    "score_std = result.cv_results_['std_test_score']\n",
    "cv_k = [k for k in lr_gd_cv.cv_results_['param_selectkbest__k']]"
   ]
  },
  {
   "cell_type": "code",
   "execution_count": 32,
   "metadata": {},
   "outputs": [
    {
     "data": {
      "text/plain": [
       "({'selectkbest__k': 71},)"
      ]
     },
     "execution_count": 32,
     "metadata": {},
     "output_type": "execute_result"
    }
   ],
   "source": [
    "# The best params attribut of lr-grid_cv\n",
    "lr_gd_cv.best_params_ ,"
   ]
  },
  {
   "cell_type": "code",
   "execution_count": 33,
   "metadata": {},
   "outputs": [
    {
     "name": "stdout",
     "output_type": "stream",
     "text": [
      " Linear regression GrideSearchCV best score: 0.42782\n"
     ]
    }
   ],
   "source": [
    "# The GridSearchCV score\n",
    "print(\" Linear regression GrideSearchCV best score: {:.5f}\".format(lr_gd_cv.best_score_))"
   ]
  },
  {
   "cell_type": "code",
   "execution_count": 34,
   "metadata": {},
   "outputs": [],
   "source": [
    "\n",
    "selected = lr_gd_cv.best_estimator_.named_steps.selectkbest.get_support()"
   ]
  },
  {
   "cell_type": "code",
   "execution_count": 35,
   "metadata": {},
   "outputs": [
    {
     "data": {
      "text/plain": [
       "odometer                0.016351\n",
       "drive_fwd               0.008094\n",
       "condition_fair          0.007541\n",
       "title_status_rebuilt    0.006256\n",
       "type_sedan              0.005108\n",
       "                          ...   \n",
       "cylinders              -0.005440\n",
       "manufacturer_subaru    -0.006009\n",
       "rating                 -0.006850\n",
       "manufacturer_honda     -0.009329\n",
       "year_difference        -0.017250\n",
       "Length: 71, dtype: float64"
      ]
     },
     "execution_count": 35,
     "metadata": {},
     "output_type": "execute_result"
    }
   ],
   "source": [
    "# Get the linear model coefficients from the `coef_` attribute and store in `coefs`,\n",
    "# get the matching feature names from the column names of the dataframe,\n",
    "# and display the results as a pandas Series with `coefs` as the values and `features` as the index,\n",
    "# sorting the values in descending order\n",
    "coefs = lr_gd_cv.best_estimator_.named_steps.linearregression.coef_\n",
    "features = X_train.columns[selected]\n",
    "pd.Series(coefs, index=features).sort_values(ascending= False)"
   ]
  },
  {
   "cell_type": "markdown",
   "metadata": {},
   "source": [
    "The correlation coefficient sorted based on the weights. However, features correlation with the target either positive or negative. From the linear regression, very few features have a weak positive and negative association with the target variable, and the remaining features have no association or zero correlation coefficient, which \n",
    "interprated as insignificant features."
   ]
  },
  {
   "cell_type": "markdown",
   "metadata": {},
   "source": [
    "## Ridge Regularization"
   ]
  },
  {
   "cell_type": "code",
   "execution_count": 36,
   "metadata": {},
   "outputs": [
    {
     "name": "stdout",
     "output_type": "stream",
     "text": [
      "Ridge regularization score: 0.42384167479869406\n",
      "Ridge 0.01 alphas, RMSE: 0.03829229430749179\n",
      "\n",
      "\n",
      "Ridge regularization score: 0.42384167479869406\n",
      "Ridge 0.1 alphas, RMSE: 0.03829229430749179\n",
      "\n",
      "\n",
      "Ridge regularization score: 0.42384167479869406\n",
      "Ridge 1 alphas, RMSE: 0.03829229430749179\n",
      "\n",
      "\n",
      "Ridge regularization score: 0.42384167479869406\n",
      "Ridge 10 alphas, RMSE: 0.03829229430749179\n",
      "\n",
      "\n"
     ]
    }
   ],
   "source": [
    "# Ridge Regularization to minimize coefficient weight to enhance model performance.\n",
    "#X_train, X_test, y_train, y_test = train_test_split(X_train, y_train,test_size = 0.3, random_state=47) \n",
    "#%%time\n",
    "alphas = [0.01, 0.1, 1, 10]\n",
    "for alpha in alphas:\n",
    "    ridge = Ridge(alpha=0.1, normalize=True) \n",
    "    ridge.fit(X_train, y_train)\n",
    "    ridge_pred = ridge.predict(X_test)\n",
    "   \n",
    "    print(f\"Ridge regularization score: {r2_score(y_test, ridge_pred)}\")\n",
    "    print(\"Ridge {} alphas, RMSE: {}\".format(alpha, np.sqrt(mean_squared_error(y_test, ridge_pred))))\n",
    "    print('\\n')"
   ]
  },
  {
   "cell_type": "markdown",
   "metadata": {},
   "source": [
    "Ridge returns minimum loss compared to linear regression."
   ]
  },
  {
   "cell_type": "markdown",
   "metadata": {},
   "source": [
    "## XGBoost"
   ]
  },
  {
   "cell_type": "code",
   "execution_count": 37,
   "metadata": {},
   "outputs": [
    {
     "name": "stdout",
     "output_type": "stream",
     "text": [
      "Fitting 4 folds for each of 12 candidates, totalling 48 fits\n"
     ]
    },
    {
     "name": "stderr",
     "output_type": "stream",
     "text": [
      "[Parallel(n_jobs=1)]: Using backend SequentialBackend with 1 concurrent workers.\n",
      "[Parallel(n_jobs=1)]: Done  48 out of  48 | elapsed:  2.9min finished\n"
     ]
    },
    {
     "name": "stdout",
     "output_type": "stream",
     "text": [
      "Best parameters found:  {'learning_rate': 0.1, 'n_estimators': 200, 'subsample': 0.9}\n",
      "The best loss score found: 0.77598\n"
     ]
    }
   ],
   "source": [
    "# Applying or Optimizing the model with XGBoost \n",
    "\n",
    "dmatrix = xgb.DMatrix(data=X,label=y) \n",
    "\n",
    "gbm_param_grid = {'learning_rate': [0.01,0.1,0.5,0.9],\n",
    "                    'n_estimators': [200],\n",
    "                    'subsample': [0.3, 0.5, 0.9]} \n",
    "\n",
    "gbm = xgb.XGBRegressor()\n",
    "grid_mse = GridSearchCV(estimator=gbm,param_grid=gbm_param_grid, scoring ='r2', cv=4, verbose=1)\n",
    "grid_mse.fit(X_train, y_train)\n",
    "print(\"Best parameters found: \",grid_mse.best_params_) \n",
    "#print(\"The highest score found:  {} \".format(grid_mse.best_score_))\n",
    "print(\"The best loss score found: {:.5f}\".format(np.sqrt(np.abs(grid_mse.best_score_))))"
   ]
  },
  {
   "cell_type": "markdown",
   "metadata": {},
   "source": [
    "**XGBoost regression return the maximum score than any other algorithms.**"
   ]
  },
  {
   "cell_type": "markdown",
   "metadata": {},
   "source": [
    "## Decision Tree Regression"
   ]
  },
  {
   "cell_type": "code",
   "execution_count": 38,
   "metadata": {},
   "outputs": [
    {
     "name": "stdout",
     "output_type": "stream",
     "text": [
      "Cross validated mean: 0.13712\n"
     ]
    }
   ],
   "source": [
    "# Single decision Tree and cross validated  scores using the defaul criterion (mse)\n",
    "from sklearn.model_selection import cross_val_score\n",
    "\n",
    "dt = DecisionTreeRegressor(random_state=47)\n",
    "dt.fit(X_train, y_train)\n",
    "dt_scores = cross_val_score(dt, X, y, cv=5)\n",
    "print('Cross validated mean: %.5f' %(np.mean(dt_scores)))\n",
    "\n",
    "#print('Mean score without CV:%.5f' %(dt.score(X_train, y_train)))\n",
    "#print('\\n')"
   ]
  },
  {
   "cell_type": "code",
   "execution_count": 39,
   "metadata": {},
   "outputs": [
    {
     "name": "stdout",
     "output_type": "stream",
     "text": [
      "R_square from single Decision Tree: 0.17652\n"
     ]
    }
   ],
   "source": [
    "# On the test or hold-out set \n",
    "# mean absolute error as criterion\n",
    "y_pred = dt.predict(X_test)\n",
    "\n",
    "print(\"R_square from single Decision Tree: {:.5f}\".format(r2_score(y_test, dt.predict(X_test))))\n",
    "#print(\"R_square from expected datasets: {:.5f} \".format( dt.score(X_test, y_test)))\n",
    "#print('\\n')"
   ]
  },
  {
   "cell_type": "code",
   "execution_count": 40,
   "metadata": {},
   "outputs": [],
   "source": [
    "# The score is less from cross-validated "
   ]
  },
  {
   "cell_type": "code",
   "execution_count": 41,
   "metadata": {},
   "outputs": [
    {
     "name": "stdout",
     "output_type": "stream",
     "text": [
      "Root mean squared error: 0.04578 \n"
     ]
    }
   ],
   "source": [
    "print(\"Root mean squared error: {:.5f} \".format( np.sqrt(mean_squared_error(y_test, y_pred))))\n",
    "#print(\"Mean absolute error: {:.5f}\".format(mean_absolute_error(y_test, y_pred)))\n",
    "#print('\\n')"
   ]
  },
  {
   "cell_type": "code",
   "execution_count": 42,
   "metadata": {},
   "outputs": [
    {
     "name": "stdout",
     "output_type": "stream",
     "text": [
      "The best sample split: {'max_depth': 11, 'min_samples_split': 19}\n",
      "GridSearch best score:  0.36719151265802097\n",
      "\n",
      "\n"
     ]
    }
   ],
   "source": [
    "# Apply GrideSearchCV on decision Tree with five-fold cross validation\n",
    "param_grid = {\"max_depth\":range(2,20),'min_samples_split': range(2,20)}\n",
    "\n",
    "gs = GridSearchCV(DecisionTreeRegressor(random_state=47 ),param_grid = param_grid,  cv=5)\n",
    "gs.fit(X_train, y_train)\n",
    "\n",
    "print('The best sample split: {}'.format(gs.best_params_))\n",
    "print(f'GridSearch best score:  {gs.best_score_}')  \n",
    "print('\\n')"
   ]
  },
  {
   "cell_type": "code",
   "execution_count": 43,
   "metadata": {},
   "outputs": [
    {
     "name": "stdout",
     "output_type": "stream",
     "text": [
      "Cross validated decision trees: mean absolute error: 0.15056\n"
     ]
    }
   ],
   "source": [
    "# Scores from cross-validation using 'mae'criterion.\n",
    "dt_ame = DecisionTreeRegressor(random_state=47, criterion='mae')\n",
    "dt_ame.fit(X_train, y_train)\n",
    "dt_ame_scores = cross_val_score(dt_ame, X, y, cv=5)\n",
    "print(\"Cross validated decision trees: mean absolute error: {:.5f}\". format(np.mean(dt_ame_scores)))\n"
   ]
  },
  {
   "cell_type": "markdown",
   "metadata": {},
   "source": [
    "## Random Forest Regression"
   ]
  },
  {
   "cell_type": "code",
   "execution_count": 44,
   "metadata": {},
   "outputs": [],
   "source": [
    "# Define a pipleline\n",
    "# UStandardScaler()\n",
    "# Define randomeforestregressor as random state is 47\n",
    "RF_pipe = make_pipeline(\n",
    "                        StandardScaler(),\n",
    "                        RandomForestRegressor(random_state=47)\n",
    "                                         )"
   ]
  },
  {
   "cell_type": "code",
   "execution_count": 45,
   "metadata": {},
   "outputs": [
    {
     "data": {
      "text/plain": [
       "array([0.04894376, 0.07285881, 0.054245  , 0.05260682, 0.05251098])"
      ]
     },
     "execution_count": 45,
     "metadata": {},
     "output_type": "execute_result"
    }
   ],
   "source": [
    "# Fit and assess the performance with Cross Validation\n",
    "forest_cv_result = cross_validate(RF_pipe, X, y, cv=5)\n",
    "forest_cv_result['score_time']"
   ]
  },
  {
   "cell_type": "code",
   "execution_count": 46,
   "metadata": {},
   "outputs": [],
   "source": [
    "# Range of cross validated scores\n",
    "forest_cv_score = forest_cv_result['test_score']"
   ]
  },
  {
   "cell_type": "code",
   "execution_count": 47,
   "metadata": {},
   "outputs": [
    {
     "data": {
      "text/plain": [
       "(0.5754017835652107, 0.021410475618144603)"
      ]
     },
     "execution_count": 47,
     "metadata": {},
     "output_type": "execute_result"
    }
   ],
   "source": [
    "# The mean score and standard error\n",
    "np.mean(forest_cv_score), np.std(forest_cv_score)"
   ]
  },
  {
   "cell_type": "code",
   "execution_count": 48,
   "metadata": {},
   "outputs": [
    {
     "name": "stdout",
     "output_type": "stream",
     "text": [
      "Mean absolute error:  0.02240: \n",
      "Root mean squared error:  0.03440\n",
      "\n",
      "\n"
     ]
    }
   ],
   "source": [
    "#Fit pipe line \n",
    "#%%time\n",
    "RF_pipe.fit(X_train, y_train)\n",
    "y_pred = RF_pipe.predict(X_test )\n",
    "\n",
    "print(\"Mean absolute error:  {:.5f}: \".format( mean_absolute_error(y_test, y_pred)))\n",
    "print(\"Root mean squared error:  {:.5f}\".format(np.sqrt(mean_squared_error(y_test, y_pred))))\n",
    "print('\\n')"
   ]
  },
  {
   "cell_type": "code",
   "execution_count": 49,
   "metadata": {},
   "outputs": [],
   "source": [
    "# Create grid_params dictionary \n",
    "grid_params = {\n",
    "    \"randomforestregressor__max_depth\":[5,10,25,30, 40,50],\n",
    "    'randomforestregressor__n_estimators': [10,50,100,200],\n",
    "    'standardscaler':[StandardScaler(),None]\n",
    "    #'simpleimputer__strategy':['mean', 'median']\n",
    "}"
   ]
  },
  {
   "cell_type": "code",
   "execution_count": 50,
   "metadata": {},
   "outputs": [],
   "source": [
    "# Apply Model GridSearchCV\n",
    "forest_gd_cv = GridSearchCV(RF_pipe, param_grid = grid_params, cv=5, n_jobs=-1)"
   ]
  },
  {
   "cell_type": "code",
   "execution_count": 51,
   "metadata": {},
   "outputs": [
    {
     "data": {
      "text/plain": [
       "GridSearchCV(cv=5,\n",
       "             estimator=Pipeline(steps=[('standardscaler', StandardScaler()),\n",
       "                                       ('randomforestregressor',\n",
       "                                        RandomForestRegressor(random_state=47))]),\n",
       "             n_jobs=-1,\n",
       "             param_grid={'randomforestregressor__max_depth': [5, 10, 25, 30, 40,\n",
       "                                                              50],\n",
       "                         'randomforestregressor__n_estimators': [10, 50, 100,\n",
       "                                                                 200],\n",
       "                         'standardscaler': [StandardScaler(), None]})"
      ]
     },
     "execution_count": 51,
     "metadata": {},
     "output_type": "execute_result"
    }
   ],
   "source": [
    "# Fit the model\n",
    "forest_gd_cv.fit(X_train, y_train)\n"
   ]
  },
  {
   "cell_type": "code",
   "execution_count": 52,
   "metadata": {},
   "outputs": [
    {
     "data": {
      "text/plain": [
       "{'randomforestregressor__max_depth': 40,\n",
       " 'randomforestregressor__n_estimators': 200,\n",
       " 'standardscaler': StandardScaler()}"
      ]
     },
     "execution_count": 52,
     "metadata": {},
     "output_type": "execute_result"
    }
   ],
   "source": [
    "#The best parameters as n_estimator equals to 200\n",
    "forest_gd_cv.best_params_"
   ]
  },
  {
   "cell_type": "code",
   "execution_count": 53,
   "metadata": {
    "scrolled": true
   },
   "outputs": [
    {
     "name": "stdout",
     "output_type": "stream",
     "text": [
      "RandomForest best score:  0.572449\n"
     ]
    }
   ],
   "source": [
    "# The accuracy score from hyperparameter tuning.\n",
    "print('RandomForest best score:  {:3f}'.format(forest_gd_cv.best_score_))"
   ]
  },
  {
   "cell_type": "markdown",
   "metadata": {},
   "source": [
    "Cross validation score a little higher than GridSearchcV but the difference is negligible, in such case\n",
    "cross validation may perform in lieu of GridSearch to minimize computational cost."
   ]
  },
  {
   "cell_type": "code",
   "execution_count": 54,
   "metadata": {},
   "outputs": [
    {
     "data": {
      "text/plain": [
       "Pipeline(steps=[('standardscaler', StandardScaler()),\n",
       "                ('randomforestregressor',\n",
       "                 RandomForestRegressor(max_depth=40, n_estimators=200,\n",
       "                                       random_state=47))])"
      ]
     },
     "execution_count": 54,
     "metadata": {},
     "output_type": "execute_result"
    }
   ],
   "source": [
    "forest_gd_cv.best_estimator_"
   ]
  },
  {
   "cell_type": "markdown",
   "metadata": {},
   "source": [
    "## Most important Features "
   ]
  },
  {
   "cell_type": "code",
   "execution_count": 55,
   "metadata": {
    "scrolled": false
   },
   "outputs": [
    {
     "name": "stdout",
     "output_type": "stream",
     "text": [
      " 1 year_difference 0.21837\n",
      " 2 odometer   0.21059\n",
      " 3 new_price  0.11969\n",
      " 4 drive_fwd  0.05425\n",
      " 5 rating     0.05359\n",
      " 6 manufacturer_honda 0.03334\n",
      " 7 title_status_rebuilt 0.02546\n",
      " 8 type_sedan 0.02433\n",
      " 9 condition_fair 0.01670\n",
      "10 cylinders  0.01555\n"
     ]
    },
    {
     "data": {
      "image/png": "[encoded data removed]",
      "text/plain": [
       "<Figure size 432x432 with 1 Axes>"
      ]
     },
     "metadata": {
      "needs_background": "light"
     },
     "output_type": "display_data"
    }
   ],
   "source": [
    "#Plot a barplot of the random forest's feature importances,\n",
    "#assigning the feature_importances_` attribute of \n",
    "#`rf_grid_cv.best_estimator_.named_steps.randomforestregressor` to the name `imps` to then\n",
    "#create a pandas Series object of the feature importances, with the index given by the\n",
    "#training data column names, sorting the values \n",
    "#my_color = ['#bdd7e7','#6baed6','#2171b5','#08519c']\n",
    "forest = RandomForestRegressor( random_state=47)\n",
    "feature_labels = df.columns.drop('depreciation per year')\n",
    "forest.fit(X_train, y_train)\n",
    "importances = forest.feature_importances_\n",
    "#assign value in ascending order\n",
    "indices = np.argsort(importances)[: : -1][:10]\n",
    "for i in range(len(indices)):\n",
    "    print(\"%2d %-*s %.5f\" %(i+1, 10, feature_labels[indices[i]], importances[indices[i]]))\n",
    "plt.figure(figsize=(6, 6))\n",
    "plt.title('Random Forest feature importances', fontsize=20)\n",
    "plt.xlabel('Relative Importance')\n",
    "plt.barh(range(len(indices)), importances[indices]*1000, color='gray')\n",
    "plt.yticks(range(len(indices)),feature_labels[indices], rotation=0)\n",
    "plt.xlim([-1, 300])\n",
    "plt.tight_layout()\n",
    "plt.margins(0.02)"
   ]
  },
  {
   "cell_type": "markdown",
   "metadata": {},
   "source": [
    "**Conclusion**: \n",
    "XGBoost regressor retrieved the best score 77.59%, followed by Random forest 57.66%. Random forest regressors yield the most relevant features to the target variable, which is a key to optimize model performance and/or solving real problems. The features year_difference, odometer are the two top dominant features followed by new_price, rating, and drive_fwd features are the top fife features attributes 64% of the score versus the remaining sixty-seven features.  \n"
   ]
  },
  {
   "cell_type": "code",
   "execution_count": null,
   "metadata": {},
   "outputs": [],
   "source": []
  }
 ],
 "metadata": {
  "kernelspec": {
   "display_name": "Python 3",
   "language": "python",
   "name": "python3"
  },
  "language_info": {
   "codemirror_mode": {
    "name": "ipython",
    "version": 3
   },
   "file_extension": ".py",
   "mimetype": "text/x-python",
   "name": "python",
   "nbconvert_exporter": "python",
   "pygments_lexer": "ipython3",
   "version": "3.8.10"
  }
 },
 "nbformat": 4,
 "nbformat_minor": 4
}
