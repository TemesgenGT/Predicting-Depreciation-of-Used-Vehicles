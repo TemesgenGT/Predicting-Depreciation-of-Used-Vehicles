{
 "cells": [
  {
   "cell_type": "code",
   "execution_count": 1,
   "metadata": {},
   "outputs": [],
   "source": [
    "# Import the neccessary modules\n",
    "import numpy as np\n",
    "import pandas as pd\n",
    "import matplotlib.pyplot as plt\n",
    "import seaborn as sns\n",
    "\n",
    "from sklearn.preprocessing import scale\n",
    "from sklearn.model_selection import train_test_split\n",
    "from sklearn.preprocessing import StandardScaler\n",
    "from sklearn.linear_model import LinearRegression\n",
    "from sklearn.metrics import r2_score, mean_squared_error, mean_absolute_error\n",
    "import scipy.stats as stats\n",
    "\n",
    "from sklearn.dummy import DummyRegressor\n"
   ]
  },
  {
   "cell_type": "markdown",
   "metadata": {},
   "source": [
    "# Preprocessing"
   ]
  },
  {
   "cell_type": "markdown",
   "metadata": {},
   "source": [
    "\n",
    "1. [One Hot Encoder](#One-Hot-Encoder)\n",
    "2. [Split the Data](#Split-the-Data)\n",
    "3. [Start modeling with DummyRegressor](#Start-Modeling-with-DummyRegressor)\n",
    "4. [Define Functions](#Define-Functions) \n",
    "    - [Define R_squared Function](#Define-R_squared-Function)\n",
    "        - [Define mae Function](#Define-mae-Function)\n",
    "            - [Define mse Function](#Define-mse-Function)\n",
    "5. [Scale the Data](#Scale-the-Data)\n",
    "6. [Modeling](#Modeling)\n",
    "    - [Dummy Regressor](#Dummy-Regressor)\n",
    "    - [Linear Regression](#Linear-Regression)\n",
    "7. [Residual distribution plots](#Residual-distribution-plots)"
   ]
  },
  {
   "cell_type": "code",
   "execution_count": 2,
   "metadata": {},
   "outputs": [
    {
     "data": {
      "text/html": [
       "<div>\n",
       "<style scoped>\n",
       "    .dataframe tbody tr th:only-of-type {\n",
       "        vertical-align: middle;\n",
       "    }\n",
       "\n",
       "    .dataframe tbody tr th {\n",
       "        vertical-align: top;\n",
       "    }\n",
       "\n",
       "    .dataframe thead th {\n",
       "        text-align: right;\n",
       "    }\n",
       "</style>\n",
       "<table border=\"1\" class=\"dataframe\">\n",
       "  <thead>\n",
       "    <tr style=\"text-align: right;\">\n",
       "      <th></th>\n",
       "      <th>price</th>\n",
       "      <th>year</th>\n",
       "      <th>manufacturer</th>\n",
       "      <th>model</th>\n",
       "      <th>condition</th>\n",
       "      <th>cylinders</th>\n",
       "      <th>fuel</th>\n",
       "      <th>odometer</th>\n",
       "      <th>title_status</th>\n",
       "      <th>transmission</th>\n",
       "      <th>...</th>\n",
       "      <th>type</th>\n",
       "      <th>paint_color</th>\n",
       "      <th>price_kbb</th>\n",
       "      <th>mpg</th>\n",
       "      <th>rating</th>\n",
       "      <th>year_kbb</th>\n",
       "      <th>year_difference</th>\n",
       "      <th>new_price</th>\n",
       "      <th>depreciation</th>\n",
       "      <th>depreciation per year</th>\n",
       "    </tr>\n",
       "  </thead>\n",
       "  <tbody>\n",
       "    <tr>\n",
       "      <th>0</th>\n",
       "      <td>8995.0</td>\n",
       "      <td>2011</td>\n",
       "      <td>chevrolet</td>\n",
       "      <td>traverse</td>\n",
       "      <td>good</td>\n",
       "      <td>6</td>\n",
       "      <td>gas</td>\n",
       "      <td>178054.0</td>\n",
       "      <td>clean</td>\n",
       "      <td>automatic</td>\n",
       "      <td>...</td>\n",
       "      <td>SUV</td>\n",
       "      <td>white</td>\n",
       "      <td>30995.0</td>\n",
       "      <td>Low mpg (20 - 30)</td>\n",
       "      <td>4.3</td>\n",
       "      <td>2021</td>\n",
       "      <td>10</td>\n",
       "      <td>25426.696</td>\n",
       "      <td>0.646238</td>\n",
       "      <td>0.098696</td>\n",
       "    </tr>\n",
       "    <tr>\n",
       "      <th>1</th>\n",
       "      <td>10995.0</td>\n",
       "      <td>2014</td>\n",
       "      <td>ford</td>\n",
       "      <td>explorer</td>\n",
       "      <td>good</td>\n",
       "      <td>6</td>\n",
       "      <td>gas</td>\n",
       "      <td>170259.0</td>\n",
       "      <td>clean</td>\n",
       "      <td>automatic</td>\n",
       "      <td>...</td>\n",
       "      <td>SUV</td>\n",
       "      <td>white</td>\n",
       "      <td>33470.0</td>\n",
       "      <td>Low mpg (20 - 30)</td>\n",
       "      <td>4.1</td>\n",
       "      <td>2021</td>\n",
       "      <td>7</td>\n",
       "      <td>29137.649</td>\n",
       "      <td>0.622653</td>\n",
       "      <td>0.129970</td>\n",
       "    </tr>\n",
       "    <tr>\n",
       "      <th>2</th>\n",
       "      <td>12984.0</td>\n",
       "      <td>2016</td>\n",
       "      <td>nissan</td>\n",
       "      <td>rogue</td>\n",
       "      <td>excellent</td>\n",
       "      <td>4</td>\n",
       "      <td>gas</td>\n",
       "      <td>86942.0</td>\n",
       "      <td>clean</td>\n",
       "      <td>automatic</td>\n",
       "      <td>...</td>\n",
       "      <td>SUV</td>\n",
       "      <td>blue</td>\n",
       "      <td>26745.0</td>\n",
       "      <td>Low mpg (20 - 30)</td>\n",
       "      <td>4.7</td>\n",
       "      <td>2021</td>\n",
       "      <td>5</td>\n",
       "      <td>24223.771</td>\n",
       "      <td>0.463998</td>\n",
       "      <td>0.117259</td>\n",
       "    </tr>\n",
       "    <tr>\n",
       "      <th>3</th>\n",
       "      <td>17382.0</td>\n",
       "      <td>2015</td>\n",
       "      <td>nissan</td>\n",
       "      <td>pathfinder</td>\n",
       "      <td>excellent</td>\n",
       "      <td>6</td>\n",
       "      <td>gas</td>\n",
       "      <td>48932.0</td>\n",
       "      <td>rebuilt</td>\n",
       "      <td>automatic</td>\n",
       "      <td>...</td>\n",
       "      <td>SUV</td>\n",
       "      <td>black</td>\n",
       "      <td>33075.0</td>\n",
       "      <td>Low mpg (20 - 30)</td>\n",
       "      <td>4.1</td>\n",
       "      <td>2020</td>\n",
       "      <td>5</td>\n",
       "      <td>29957.047</td>\n",
       "      <td>0.419769</td>\n",
       "      <td>0.103149</td>\n",
       "    </tr>\n",
       "    <tr>\n",
       "      <th>4</th>\n",
       "      <td>25730.0</td>\n",
       "      <td>2017</td>\n",
       "      <td>ford</td>\n",
       "      <td>explorer</td>\n",
       "      <td>excellent</td>\n",
       "      <td>6</td>\n",
       "      <td>gas</td>\n",
       "      <td>49858.0</td>\n",
       "      <td>rebuilt</td>\n",
       "      <td>automatic</td>\n",
       "      <td>...</td>\n",
       "      <td>SUV</td>\n",
       "      <td>black</td>\n",
       "      <td>33470.0</td>\n",
       "      <td>Low mpg (20 - 30)</td>\n",
       "      <td>4.1</td>\n",
       "      <td>2021</td>\n",
       "      <td>4</td>\n",
       "      <td>30921.106</td>\n",
       "      <td>0.167882</td>\n",
       "      <td>0.044906</td>\n",
       "    </tr>\n",
       "  </tbody>\n",
       "</table>\n",
       "<p>5 rows × 22 columns</p>\n",
       "</div>"
      ],
      "text/plain": [
       "     price  year manufacturer       model  condition  cylinders fuel  \\\n",
       "0   8995.0  2011    chevrolet    traverse       good          6  gas   \n",
       "1  10995.0  2014         ford    explorer       good          6  gas   \n",
       "2  12984.0  2016       nissan       rogue  excellent          4  gas   \n",
       "3  17382.0  2015       nissan  pathfinder  excellent          6  gas   \n",
       "4  25730.0  2017         ford    explorer  excellent          6  gas   \n",
       "\n",
       "   odometer title_status transmission  ... type paint_color price_kbb  \\\n",
       "0  178054.0        clean    automatic  ...  SUV       white   30995.0   \n",
       "1  170259.0        clean    automatic  ...  SUV       white   33470.0   \n",
       "2   86942.0        clean    automatic  ...  SUV        blue   26745.0   \n",
       "3   48932.0      rebuilt    automatic  ...  SUV       black   33075.0   \n",
       "4   49858.0      rebuilt    automatic  ...  SUV       black   33470.0   \n",
       "\n",
       "                 mpg  rating year_kbb  year_difference  new_price  \\\n",
       "0  Low mpg (20 - 30)     4.3     2021               10  25426.696   \n",
       "1  Low mpg (20 - 30)     4.1     2021                7  29137.649   \n",
       "2  Low mpg (20 - 30)     4.7     2021                5  24223.771   \n",
       "3  Low mpg (20 - 30)     4.1     2020                5  29957.047   \n",
       "4  Low mpg (20 - 30)     4.1     2021                4  30921.106   \n",
       "\n",
       "   depreciation  depreciation per year  \n",
       "0      0.646238               0.098696  \n",
       "1      0.622653               0.129970  \n",
       "2      0.463998               0.117259  \n",
       "3      0.419769               0.103149  \n",
       "4      0.167882               0.044906  \n",
       "\n",
       "[5 rows x 22 columns]"
      ]
     },
     "execution_count": 2,
     "metadata": {},
     "output_type": "execute_result"
    }
   ],
   "source": [
    "# Downlaod the data\n",
    "df = pd.read_csv('cleaned_vehicles data_eda.csv')\n",
    "df.head()"
   ]
  },
  {
   "cell_type": "code",
   "execution_count": 3,
   "metadata": {},
   "outputs": [
    {
     "data": {
      "text/plain": [
       "(7488, 22)"
      ]
     },
     "execution_count": 3,
     "metadata": {},
     "output_type": "execute_result"
    }
   ],
   "source": [
    "df.shape"
   ]
  },
  {
   "cell_type": "code",
   "execution_count": 4,
   "metadata": {},
   "outputs": [
    {
     "name": "stdout",
     "output_type": "stream",
     "text": [
      "<class 'pandas.core.frame.DataFrame'>\n",
      "RangeIndex: 7488 entries, 0 to 7487\n",
      "Data columns (total 22 columns):\n",
      " #   Column                 Non-Null Count  Dtype  \n",
      "---  ------                 --------------  -----  \n",
      " 0   price                  7488 non-null   float64\n",
      " 1   year                   7488 non-null   int64  \n",
      " 2   manufacturer           7488 non-null   object \n",
      " 3   model                  7488 non-null   object \n",
      " 4   condition              7488 non-null   object \n",
      " 5   cylinders              7488 non-null   int64  \n",
      " 6   fuel                   7488 non-null   object \n",
      " 7   odometer               7488 non-null   float64\n",
      " 8   title_status           7488 non-null   object \n",
      " 9   transmission           7488 non-null   object \n",
      " 10  drive                  7488 non-null   object \n",
      " 11  size                   7488 non-null   object \n",
      " 12  type                   7488 non-null   object \n",
      " 13  paint_color            7488 non-null   object \n",
      " 14  price_kbb              7488 non-null   float64\n",
      " 15  mpg                    7012 non-null   object \n",
      " 16  rating                 7488 non-null   float64\n",
      " 17  year_kbb               7488 non-null   int64  \n",
      " 18  year_difference        7488 non-null   int64  \n",
      " 19  new_price              7488 non-null   float64\n",
      " 20  depreciation           7488 non-null   float64\n",
      " 21  depreciation per year  7488 non-null   float64\n",
      "dtypes: float64(7), int64(4), object(11)\n",
      "memory usage: 1.3+ MB\n"
     ]
    }
   ],
   "source": [
    "df.info()"
   ]
  },
  {
   "cell_type": "code",
   "execution_count": 5,
   "metadata": {},
   "outputs": [
    {
     "data": {
      "text/plain": [
       "0.3220162894000456"
      ]
     },
     "execution_count": 5,
     "metadata": {},
     "output_type": "execute_result"
    }
   ],
   "source": [
    "#check deprecition per year not to exceed 100%\n",
    "df['depreciation per year'].max()"
   ]
  },
  {
   "cell_type": "code",
   "execution_count": 6,
   "metadata": {},
   "outputs": [
    {
     "data": {
      "text/plain": [
       "-0.034883758913167195"
      ]
     },
     "execution_count": 6,
     "metadata": {},
     "output_type": "execute_result"
    }
   ],
   "source": [
    "df['depreciation per year'].min()"
   ]
  },
  {
   "cell_type": "code",
   "execution_count": 7,
   "metadata": {},
   "outputs": [],
   "source": [
    "# negative depreciation per year interpreted the deprecaited value of the car started to recover or retaining the \n",
    "# values."
   ]
  },
  {
   "cell_type": "code",
   "execution_count": 8,
   "metadata": {},
   "outputs": [
    {
     "data": {
      "text/plain": [
       "(7488, 22)"
      ]
     },
     "execution_count": 8,
     "metadata": {},
     "output_type": "execute_result"
    }
   ],
   "source": [
    "df.shape"
   ]
  },
  {
   "cell_type": "markdown",
   "metadata": {},
   "source": [
    "**Remove redudant features for modeling**"
   ]
  },
  {
   "cell_type": "code",
   "execution_count": 9,
   "metadata": {},
   "outputs": [],
   "source": [
    "# Drop model from categorical to minimze the size of binary columns to reduce competition time.\n",
    "df.drop(columns=['model'],axis=1,inplace=True)"
   ]
  },
  {
   "cell_type": "code",
   "execution_count": 10,
   "metadata": {},
   "outputs": [],
   "source": [
    "# Revome Redundant Features\n",
    "df.drop(columns= ['depreciation','price', 'price_kbb', 'year_kbb', 'year',], axis=1, inplace=True)"
   ]
  },
  {
   "cell_type": "markdown",
   "metadata": {},
   "source": [
    "### One Hot Encoder"
   ]
  },
  {
   "cell_type": "markdown",
   "metadata": {},
   "source": [
    "**Create binary colums using pandas get_dummies()**"
   ]
  },
  {
   "cell_type": "code",
   "execution_count": 11,
   "metadata": {},
   "outputs": [],
   "source": [
    "# Define dummy function to create binary columns\n",
    "def dummy(df, x):\n",
    "    df_dummy = pd.get_dummies(df[x], drop_first = True)\n",
    "    df = pd.concat([df, df_dummy], axis=1)\n",
    "    df.drop(x, axis=1, inplace=True)\n",
    "    return df"
   ]
  },
  {
   "cell_type": "code",
   "execution_count": 12,
   "metadata": {},
   "outputs": [
    {
     "data": {
      "text/html": [
       "<div>\n",
       "<style scoped>\n",
       "    .dataframe tbody tr th:only-of-type {\n",
       "        vertical-align: middle;\n",
       "    }\n",
       "\n",
       "    .dataframe tbody tr th {\n",
       "        vertical-align: top;\n",
       "    }\n",
       "\n",
       "    .dataframe thead th {\n",
       "        text-align: right;\n",
       "    }\n",
       "</style>\n",
       "<table border=\"1\" class=\"dataframe\">\n",
       "  <thead>\n",
       "    <tr style=\"text-align: right;\">\n",
       "      <th></th>\n",
       "      <th>cylinders</th>\n",
       "      <th>odometer</th>\n",
       "      <th>rating</th>\n",
       "      <th>year_difference</th>\n",
       "      <th>new_price</th>\n",
       "      <th>depreciation per year</th>\n",
       "      <th>manufacturer_audi</th>\n",
       "      <th>manufacturer_bmw</th>\n",
       "      <th>manufacturer_buick</th>\n",
       "      <th>manufacturer_cadillac</th>\n",
       "      <th>...</th>\n",
       "      <th>condition_salvage</th>\n",
       "      <th>fuel_electric</th>\n",
       "      <th>fuel_gas</th>\n",
       "      <th>fuel_hybrid</th>\n",
       "      <th>fuel_other</th>\n",
       "      <th>mpg_Low mpg (20 - 30)</th>\n",
       "      <th>mpg_Medium mpg (30 - 40)</th>\n",
       "      <th>size_full-size</th>\n",
       "      <th>size_mid-size</th>\n",
       "      <th>size_sub-compact</th>\n",
       "    </tr>\n",
       "  </thead>\n",
       "  <tbody>\n",
       "    <tr>\n",
       "      <th>0</th>\n",
       "      <td>6</td>\n",
       "      <td>178054.0</td>\n",
       "      <td>4.3</td>\n",
       "      <td>10</td>\n",
       "      <td>25426.696</td>\n",
       "      <td>0.098696</td>\n",
       "      <td>0</td>\n",
       "      <td>0</td>\n",
       "      <td>0</td>\n",
       "      <td>0</td>\n",
       "      <td>...</td>\n",
       "      <td>0</td>\n",
       "      <td>0</td>\n",
       "      <td>1</td>\n",
       "      <td>0</td>\n",
       "      <td>0</td>\n",
       "      <td>1</td>\n",
       "      <td>0</td>\n",
       "      <td>1</td>\n",
       "      <td>0</td>\n",
       "      <td>0</td>\n",
       "    </tr>\n",
       "    <tr>\n",
       "      <th>1</th>\n",
       "      <td>6</td>\n",
       "      <td>170259.0</td>\n",
       "      <td>4.1</td>\n",
       "      <td>7</td>\n",
       "      <td>29137.649</td>\n",
       "      <td>0.129970</td>\n",
       "      <td>0</td>\n",
       "      <td>0</td>\n",
       "      <td>0</td>\n",
       "      <td>0</td>\n",
       "      <td>...</td>\n",
       "      <td>0</td>\n",
       "      <td>0</td>\n",
       "      <td>1</td>\n",
       "      <td>0</td>\n",
       "      <td>0</td>\n",
       "      <td>1</td>\n",
       "      <td>0</td>\n",
       "      <td>1</td>\n",
       "      <td>0</td>\n",
       "      <td>0</td>\n",
       "    </tr>\n",
       "    <tr>\n",
       "      <th>2</th>\n",
       "      <td>4</td>\n",
       "      <td>86942.0</td>\n",
       "      <td>4.7</td>\n",
       "      <td>5</td>\n",
       "      <td>24223.771</td>\n",
       "      <td>0.117259</td>\n",
       "      <td>0</td>\n",
       "      <td>0</td>\n",
       "      <td>0</td>\n",
       "      <td>0</td>\n",
       "      <td>...</td>\n",
       "      <td>0</td>\n",
       "      <td>0</td>\n",
       "      <td>1</td>\n",
       "      <td>0</td>\n",
       "      <td>0</td>\n",
       "      <td>1</td>\n",
       "      <td>0</td>\n",
       "      <td>0</td>\n",
       "      <td>1</td>\n",
       "      <td>0</td>\n",
       "    </tr>\n",
       "    <tr>\n",
       "      <th>3</th>\n",
       "      <td>6</td>\n",
       "      <td>48932.0</td>\n",
       "      <td>4.1</td>\n",
       "      <td>5</td>\n",
       "      <td>29957.047</td>\n",
       "      <td>0.103149</td>\n",
       "      <td>0</td>\n",
       "      <td>0</td>\n",
       "      <td>0</td>\n",
       "      <td>0</td>\n",
       "      <td>...</td>\n",
       "      <td>0</td>\n",
       "      <td>0</td>\n",
       "      <td>1</td>\n",
       "      <td>0</td>\n",
       "      <td>0</td>\n",
       "      <td>1</td>\n",
       "      <td>0</td>\n",
       "      <td>1</td>\n",
       "      <td>0</td>\n",
       "      <td>0</td>\n",
       "    </tr>\n",
       "    <tr>\n",
       "      <th>4</th>\n",
       "      <td>6</td>\n",
       "      <td>49858.0</td>\n",
       "      <td>4.1</td>\n",
       "      <td>4</td>\n",
       "      <td>30921.106</td>\n",
       "      <td>0.044906</td>\n",
       "      <td>0</td>\n",
       "      <td>0</td>\n",
       "      <td>0</td>\n",
       "      <td>0</td>\n",
       "      <td>...</td>\n",
       "      <td>0</td>\n",
       "      <td>0</td>\n",
       "      <td>1</td>\n",
       "      <td>0</td>\n",
       "      <td>0</td>\n",
       "      <td>1</td>\n",
       "      <td>0</td>\n",
       "      <td>1</td>\n",
       "      <td>0</td>\n",
       "      <td>0</td>\n",
       "    </tr>\n",
       "  </tbody>\n",
       "</table>\n",
       "<p>5 rows × 73 columns</p>\n",
       "</div>"
      ],
      "text/plain": [
       "   cylinders  odometer  rating  year_difference  new_price  \\\n",
       "0          6  178054.0     4.3               10  25426.696   \n",
       "1          6  170259.0     4.1                7  29137.649   \n",
       "2          4   86942.0     4.7                5  24223.771   \n",
       "3          6   48932.0     4.1                5  29957.047   \n",
       "4          6   49858.0     4.1                4  30921.106   \n",
       "\n",
       "   depreciation per year  manufacturer_audi  manufacturer_bmw  \\\n",
       "0               0.098696                  0                 0   \n",
       "1               0.129970                  0                 0   \n",
       "2               0.117259                  0                 0   \n",
       "3               0.103149                  0                 0   \n",
       "4               0.044906                  0                 0   \n",
       "\n",
       "   manufacturer_buick  manufacturer_cadillac  ...  condition_salvage  \\\n",
       "0                   0                      0  ...                  0   \n",
       "1                   0                      0  ...                  0   \n",
       "2                   0                      0  ...                  0   \n",
       "3                   0                      0  ...                  0   \n",
       "4                   0                      0  ...                  0   \n",
       "\n",
       "   fuel_electric  fuel_gas  fuel_hybrid  fuel_other  mpg_Low mpg (20 - 30)  \\\n",
       "0              0         1            0           0                      1   \n",
       "1              0         1            0           0                      1   \n",
       "2              0         1            0           0                      1   \n",
       "3              0         1            0           0                      1   \n",
       "4              0         1            0           0                      1   \n",
       "\n",
       "   mpg_Medium mpg (30 - 40)  size_full-size  size_mid-size  size_sub-compact  \n",
       "0                         0               1              0                 0  \n",
       "1                         0               1              0                 0  \n",
       "2                         0               0              1                 0  \n",
       "3                         0               1              0                 0  \n",
       "4                         0               1              0                 0  \n",
       "\n",
       "[5 rows x 73 columns]"
      ]
     },
     "execution_count": 12,
     "metadata": {},
     "output_type": "execute_result"
    }
   ],
   "source": [
    "df = dummy(df, ['manufacturer'])\n",
    "df = dummy(df, ['drive'])\n",
    "df = dummy(df, ['type'])\n",
    "df = dummy(df, ['title_status'])\n",
    "df = dummy(df, ['paint_color'])\n",
    "df = dummy(df, ['transmission'])\n",
    "df = dummy(df, ['condition'])\n",
    "df = dummy(df, ['fuel'])\n",
    "df = dummy(df, ['mpg'])\n",
    "df = dummy(df, ['size'])\n",
    "df.head()"
   ]
  },
  {
   "cell_type": "code",
   "execution_count": 13,
   "metadata": {},
   "outputs": [
    {
     "data": {
      "text/plain": [
       "(7488, 73)"
      ]
     },
     "execution_count": 13,
     "metadata": {},
     "output_type": "execute_result"
    }
   ],
   "source": [
    "df.shape"
   ]
  },
  {
   "cell_type": "code",
   "execution_count": 14,
   "metadata": {},
   "outputs": [],
   "source": [
    "df.dropna(inplace=True)"
   ]
  },
  {
   "cell_type": "markdown",
   "metadata": {},
   "source": [
    "## Split the Data"
   ]
  },
  {
   "cell_type": "markdown",
   "metadata": {},
   "source": [
    "### Split the dataset into train  and test sets"
   ]
  },
  {
   "cell_type": "code",
   "execution_count": 15,
   "metadata": {},
   "outputs": [],
   "source": [
    "# class the depedent target variable as \n",
    "# \"y\" and the indepedent features as \"X\"\n",
    "y = df['depreciation per year']\n",
    "X = df.drop(columns='depreciation per year', axis=1)"
   ]
  },
  {
   "cell_type": "code",
   "execution_count": 16,
   "metadata": {},
   "outputs": [],
   "source": [
    "# Split the dataset into train and test using train_test_split \n",
    "# imported from sklearn.model_selection\n",
    "X_train, X_test, y_train, y_test = train_test_split(X, y, test_size=0.3, random_state=47)"
   ]
  },
  {
   "cell_type": "code",
   "execution_count": 17,
   "metadata": {},
   "outputs": [
    {
     "data": {
      "text/plain": [
       "Index(['cylinders', 'odometer', 'rating', 'year_difference', 'new_price',\n",
       "       'manufacturer_audi', 'manufacturer_bmw', 'manufacturer_buick',\n",
       "       'manufacturer_cadillac', 'manufacturer_chevrolet',\n",
       "       'manufacturer_chrysler', 'manufacturer_dodge', 'manufacturer_fiat',\n",
       "       'manufacturer_ford', 'manufacturer_honda', 'manufacturer_hyundai',\n",
       "       'manufacturer_infiniti', 'manufacturer_jaguar', 'manufacturer_kia',\n",
       "       'manufacturer_lexus', 'manufacturer_lincoln', 'manufacturer_mazda',\n",
       "       'manufacturer_mitsubishi', 'manufacturer_nissan', 'manufacturer_subaru',\n",
       "       'manufacturer_volkswagen', 'manufacturer_volvo', 'drive_fwd',\n",
       "       'drive_rwd', 'type_convertible', 'type_coupe', 'type_hatchback',\n",
       "       'type_mini-van', 'type_offroad', 'type_other', 'type_pickup',\n",
       "       'type_sedan', 'type_truck', 'type_van', 'type_wagon',\n",
       "       'title_status_lien', 'title_status_missing', 'title_status_parts only',\n",
       "       'title_status_rebuilt', 'title_status_salvage', 'paint_color_blue',\n",
       "       'paint_color_brown', 'paint_color_custom', 'paint_color_green',\n",
       "       'paint_color_grey', 'paint_color_orange', 'paint_color_purple',\n",
       "       'paint_color_red', 'paint_color_silver', 'paint_color_white',\n",
       "       'paint_color_yellow', 'transmission_manual', 'transmission_other',\n",
       "       'condition_fair', 'condition_good', 'condition_like new',\n",
       "       'condition_new', 'condition_salvage', 'fuel_electric', 'fuel_gas',\n",
       "       'fuel_hybrid', 'fuel_other', 'mpg_Low mpg (20 - 30)',\n",
       "       'mpg_Medium mpg (30 - 40)', 'size_full-size', 'size_mid-size',\n",
       "       'size_sub-compact'],\n",
       "      dtype='object')"
      ]
     },
     "execution_count": 17,
     "metadata": {},
     "output_type": "execute_result"
    }
   ],
   "source": [
    "X.columns"
   ]
  },
  {
   "cell_type": "code",
   "execution_count": 18,
   "metadata": {},
   "outputs": [
    {
     "data": {
      "text/plain": [
       "((5241, 72), (2247, 72))"
      ]
     },
     "execution_count": 18,
     "metadata": {},
     "output_type": "execute_result"
    }
   ],
   "source": [
    "# Overview the dimension of train and test splitted data.\n",
    "X_train.shape, X_test.shape"
   ]
  },
  {
   "cell_type": "code",
   "execution_count": 19,
   "metadata": {},
   "outputs": [
    {
     "data": {
      "text/plain": [
       "((5241,), (2247,))"
      ]
     },
     "execution_count": 19,
     "metadata": {},
     "output_type": "execute_result"
    }
   ],
   "source": [
    "# check the dimension of trains are equal in 'X' an 'y' and the same for test.\n",
    "y_train.shape, y_test.shape"
   ]
  },
  {
   "cell_type": "markdown",
   "metadata": {},
   "source": [
    "### Dummy Regressor "
   ]
  },
  {
   "cell_type": "code",
   "execution_count": 20,
   "metadata": {},
   "outputs": [
    {
     "data": {
      "text/plain": [
       "0.11146756097525123"
      ]
     },
     "execution_count": 20,
     "metadata": {},
     "output_type": "execute_result"
    }
   ],
   "source": [
    "# lets begin by the mean as predicator to start with as best guess\n",
    "train_mean = y_train.mean()\n",
    "train_mean"
   ]
  },
  {
   "cell_type": "code",
   "execution_count": 21,
   "metadata": {},
   "outputs": [
    {
     "data": {
      "text/plain": [
       "array([[0.11146756]])"
      ]
     },
     "execution_count": 21,
     "metadata": {},
     "output_type": "execute_result"
    }
   ],
   "source": [
    "# Dummy regressor return the same value \n",
    "dumb_reg = DummyRegressor(strategy='mean')\n",
    "dumb_reg.fit(X_train, y_train)\n",
    "dumb_reg.constant_"
   ]
  },
  {
   "cell_type": "code",
   "execution_count": 22,
   "metadata": {},
   "outputs": [],
   "source": [
    "# The score of variance explained begin with 0.1105483 "
   ]
  },
  {
   "cell_type": "markdown",
   "metadata": {},
   "source": [
    "### Define Functions\n",
    "1. Define r_sequared function\n",
    "2. Define mae function\n",
    "3. Define mse function"
   ]
  },
  {
   "cell_type": "markdown",
   "metadata": {},
   "source": [
    "### Define R_squared Function"
   ]
  },
  {
   "cell_type": "code",
   "execution_count": 23,
   "metadata": {},
   "outputs": [],
   "source": [
    "# Function defination for the proportion of variance explaining or R_squared \n",
    "def r_squared(y, ypred):\n",
    "    \"\"\"R-squared score.  \n",
    "    Calculate the R-squared, or coefficient of determination, of the input.    \n",
    "    Arguments:\n",
    "    y -- the observed values\n",
    "    ypred -- the predicted values\n",
    "    \"\"\"\n",
    "    ybar = np.sum(y) / len(y) # yes, we could use np.mean(y)\n",
    "    SST = np.sum((y - ybar)**2) #(total sum of squares error or SST\n",
    "    #variance within the dataset from the mean).\n",
    "    SSR = np.sum((y - ypred)**2) #(residual sum of squares error.\n",
    "    # The variance of the expected and the predicted where, aiming to minimize the \n",
    "    # errors as possible).\n",
    "    r2 = (SST - SSR) / SST\n",
    "    return r2"
   ]
  },
  {
   "cell_type": "code",
   "execution_count": 24,
   "metadata": {},
   "outputs": [
    {
     "data": {
      "text/plain": [
       "array([0.11146756, 0.11146756, 0.11146756, 0.11146756, 0.11146756])"
      ]
     },
     "execution_count": 24,
     "metadata": {},
     "output_type": "execute_result"
    }
   ],
   "source": [
    "# Broadcasting train_mean by multiplying ones vector instantiated by y_train dimension\n",
    "y_tr_pred = train_mean * np.ones(len(y_train))\n",
    "#overviw the output of the predicted but a number multiply by one is itself.\n",
    "y_tr_pred[:5]"
   ]
  },
  {
   "cell_type": "code",
   "execution_count": 25,
   "metadata": {},
   "outputs": [
    {
     "data": {
      "text/plain": [
       "array([0.11146756, 0.11146756, 0.11146756, 0.11146756, 0.11146756])"
      ]
     },
     "execution_count": 25,
     "metadata": {},
     "output_type": "execute_result"
    }
   ],
   "source": [
    "# The same result achieved using dummyregressor predict.\n",
    "y_tr_pred = dumb_reg.predict(X_train)\n",
    "y_tr_pred[:5]"
   ]
  },
  {
   "cell_type": "code",
   "execution_count": 26,
   "metadata": {},
   "outputs": [],
   "source": [
    "# Repreat for y_test multiply an array of once with a lenght of y\n",
    "y_te_pred = train_mean * np.ones(len(y_test))\n",
    "#print(y_test, y_te_pred[:2])"
   ]
  },
  {
   "cell_type": "markdown",
   "metadata": {},
   "source": [
    "## Define mae Function"
   ]
  },
  {
   "cell_type": "code",
   "execution_count": 27,
   "metadata": {},
   "outputs": [],
   "source": [
    "#Calculate the Mean absolute errors(mae) as defined above\n",
    "def mae(y, ypred):\n",
    "    \"\"\"Mean absolute error.\n",
    "    Calculate the mean absolute error of the arguments\n",
    "    Arguments:\n",
    "    y -- the observed values\n",
    "    ypred -- the predicted values\n",
    "    \"\"\"\n",
    "    abs_error = np.abs(y - ypred)#The difference of expected and predicted\n",
    "    mae = np.mean(abs_error)# averaging the total erros\n",
    "    return mae"
   ]
  },
  {
   "cell_type": "markdown",
   "metadata": {},
   "source": [
    "## Define mse Function"
   ]
  },
  {
   "cell_type": "code",
   "execution_count": 28,
   "metadata": {},
   "outputs": [],
   "source": [
    "#Calculate the MSE as defined above\n",
    "def mse(y, ypred):\n",
    "    \"\"\"Mean square error.\n",
    "    Calculate the mean square error of the arguments\n",
    "    Arguments:\n",
    "    y -- the observed values\n",
    "    ypred -- the predicted values\n",
    "    \"\"\"\n",
    "    sq_error = (y - ypred)**2  # Square errors or residual errors\n",
    "    mse = np.mean(sq_error) # mean square errors\n",
    "    return mse"
   ]
  },
  {
   "cell_type": "markdown",
   "metadata": {},
   "source": [
    "### Compare the result from functions with the standared sklearn library outcomes."
   ]
  },
  {
   "cell_type": "code",
   "execution_count": 29,
   "metadata": {},
   "outputs": [
    {
     "data": {
      "text/plain": [
       "(0.05044894480048444, 0.05044894480048444)"
      ]
     },
     "execution_count": 29,
     "metadata": {},
     "output_type": "execute_result"
    }
   ],
   "source": [
    "# RMSE (root-mean-sequared error) on test dataset.\n",
    "np.sqrt(mse(y_test, y_te_pred)), np.sqrt(mean_squared_error(y_test, y_te_pred))"
   ]
  },
  {
   "cell_type": "code",
   "execution_count": 30,
   "metadata": {},
   "outputs": [
    {
     "data": {
      "text/plain": [
       "(0.03666896236643476, 0.03666896236643477)"
      ]
     },
     "execution_count": 30,
     "metadata": {},
     "output_type": "execute_result"
    }
   ],
   "source": [
    "# MAE (mean-absolute error) on test dataset\n",
    "mae(y_test, y_te_pred), mean_absolute_error(y_test, y_te_pred)"
   ]
  },
  {
   "cell_type": "code",
   "execution_count": 31,
   "metadata": {},
   "outputs": [],
   "source": [
    "### Compare the above functon result with sklearn library -  r2_score**"
   ]
  },
  {
   "cell_type": "code",
   "execution_count": 32,
   "metadata": {},
   "outputs": [
    {
     "data": {
      "text/plain": [
       "(0.0, 0.0)"
      ]
     },
     "execution_count": 32,
     "metadata": {},
     "output_type": "execute_result"
    }
   ],
   "source": [
    "# R^2 from the function defination\n",
    "r_squared(y_train, y_tr_pred), r2_score(y_train, y_tr_pred)"
   ]
  },
  {
   "cell_type": "code",
   "execution_count": 33,
   "metadata": {},
   "outputs": [
    {
     "data": {
      "text/plain": [
       "(-5.351132394721931e-05, -5.351132394726399e-05)"
      ]
     },
     "execution_count": 33,
     "metadata": {},
     "output_type": "execute_result"
    }
   ],
   "source": [
    "# Sklearn library r2_score\n",
    "r_squared(y_test, y_te_pred), r2_score(y_test, y_te_pred)"
   ]
  },
  {
   "cell_type": "markdown",
   "metadata": {},
   "source": [
    "The above three functions return the same scores with sklearn library"
   ]
  },
  {
   "cell_type": "markdown",
   "metadata": {},
   "source": [
    "## Scale the Data "
   ]
  },
  {
   "cell_type": "code",
   "execution_count": 34,
   "metadata": {},
   "outputs": [],
   "source": [
    "# Scale and transform the data \n",
    "scaler = StandardScaler()\n",
    "scaler.fit(X_train)\n",
    "X_tr_scaled = scaler.transform(X_train)\n",
    "X_te_scaled = scaler.transform(X_test)"
   ]
  },
  {
   "cell_type": "markdown",
   "metadata": {},
   "source": [
    "## Modeling"
   ]
  },
  {
   "cell_type": "markdown",
   "metadata": {},
   "source": [
    "### Linear Regression"
   ]
  },
  {
   "cell_type": "code",
   "execution_count": 35,
   "metadata": {},
   "outputs": [
    {
     "data": {
      "text/plain": [
       "LinearRegression()"
      ]
     },
     "execution_count": 35,
     "metadata": {},
     "output_type": "execute_result"
    }
   ],
   "source": [
    "# Apply linearRegression model and fit the X_tr_scaled.\n",
    "lm = LinearRegression()\n",
    "lm.fit(X_tr_scaled, y_train)"
   ]
  },
  {
   "cell_type": "code",
   "execution_count": 36,
   "metadata": {},
   "outputs": [],
   "source": [
    "# Make perdictions using the model on both train and test splits \n",
    "y_tr_pred = lm.predict(X_tr_scaled)\n",
    "y_te_pred = lm.predict(X_te_scaled)"
   ]
  },
  {
   "cell_type": "code",
   "execution_count": 37,
   "metadata": {},
   "outputs": [
    {
     "data": {
      "text/plain": [
       "(0.4483973136397915, 0.42572848772741845)"
      ]
     },
     "execution_count": 37,
     "metadata": {},
     "output_type": "execute_result"
    }
   ],
   "source": [
    "# Assess Model Performance\n",
    "r2_score(y_train, y_tr_pred), r2_score(y_test, y_te_pred)"
   ]
  },
  {
   "cell_type": "markdown",
   "metadata": {},
   "source": [
    "### Residual distribution plots"
   ]
  },
  {
   "cell_type": "code",
   "execution_count": 38,
   "metadata": {},
   "outputs": [
    {
     "data": {
      "image/png": "[encoded data removed]",
      "text/plain": [
       "<Figure size 576x432 with 1 Axes>"
      ]
     },
     "metadata": {
      "needs_background": "light"
     },
     "output_type": "display_data"
    }
   ],
   "source": [
    "plt.figure(figsize=(8,6))\n",
    "plt.scatter(y_te_pred, y_test - y_te_pred, marker='x')\n",
    "plt.xlabel('Predicted')\n",
    "plt.ylabel('Residual')\n",
    "plt.title('Predicted vs. Residual distribution')\n",
    "plt.show()"
   ]
  },
  {
   "cell_type": "markdown",
   "metadata": {},
   "source": [
    "The residual distribution against the predicted values seems uncorrelated inidcates that the model features \n",
    "are independent and errors are distirbuted randomly."
   ]
  },
  {
   "cell_type": "code",
   "execution_count": 39,
   "metadata": {},
   "outputs": [
    {
     "data": {
      "image/png": "[encoded data removed]",
      "text/plain": [
       "<Figure size 432x288 with 1 Axes>"
      ]
     },
     "metadata": {
      "needs_background": "light"
     },
     "output_type": "display_data"
    }
   ],
   "source": [
    "# Residual distribution\n",
    "residual = y_test - y_te_pred\n",
    "stats.probplot(residual, plot=plt)\n",
    "plt.title(\"Quantile plot\")\n",
    "plt.show()"
   ]
  },
  {
   "cell_type": "markdown",
   "metadata": {},
   "source": [
    "The plot shows there is litttle deviation on top right spot, the rest part is normally distribution."
   ]
  },
  {
   "cell_type": "code",
   "execution_count": 40,
   "metadata": {},
   "outputs": [
    {
     "data": {
      "text/plain": [
       "(0.025115118311954086, 0.026914467094521395)"
      ]
     },
     "execution_count": 40,
     "metadata": {},
     "output_type": "execute_result"
    }
   ],
   "source": [
    "# Overview the result mean absolute error after the training set scale. The result show the loss drop\n",
    "# significantly.\n",
    "mean_absolute_error(y_train, y_tr_pred), mean_absolute_error(y_test, y_te_pred)"
   ]
  },
  {
   "cell_type": "markdown",
   "metadata": {},
   "source": [
    "From the graph and the result, there is no such difference in mean absolute errors between the training and test datasets, that is there is no sign of overfitting on the training dataset.\n"
   ]
  },
  {
   "cell_type": "code",
   "execution_count": 41,
   "metadata": {},
   "outputs": [
    {
     "data": {
      "text/plain": [
       "(0.03493829189589701, 0.038229542767192176)"
      ]
     },
     "execution_count": 41,
     "metadata": {},
     "output_type": "execute_result"
    }
   ],
   "source": [
    "# Squared mean error has shown also similar result as absoulte mean error. Scaling is the training dataset \n",
    "# improves the model performance\n",
    "np.sqrt(mean_squared_error(y_train, y_tr_pred)), np.sqrt(mean_squared_error(y_test, y_te_pred))"
   ]
  },
  {
   "cell_type": "markdown",
   "metadata": {},
   "source": [
    "Generally, scaling the training dataset minimize the loss significantly."
   ]
  },
  {
   "cell_type": "code",
   "execution_count": 42,
   "metadata": {},
   "outputs": [],
   "source": [
    "df.to_csv('cleaned_vehicles data_prep.csv', index=None)"
   ]
  }
 ],
 "metadata": {
  "kernelspec": {
   "display_name": "Python 3",
   "language": "python",
   "name": "python3"
  },
  "language_info": {
   "codemirror_mode": {
    "name": "ipython",
    "version": 3
   },
   "file_extension": ".py",
   "mimetype": "text/x-python",
   "name": "python",
   "nbconvert_exporter": "python",
   "pygments_lexer": "ipython3",
   "version": "3.8.5"
  }
 },
 "nbformat": 4,
 "nbformat_minor": 4
}
